{
 "cells": [
  {
   "cell_type": "markdown",
   "metadata": {
    "ein.tags": "worksheet-0",
    "slideshow": {
     "slide_type": "-"
    }
   },
   "source": [
    "Once [my sister](https://shminke.wordpress.com) asked me to do some data interpolation.\n",
    "She had [a table](http://www.seeinglight.com/reciprocity.shtml#brucetmax) and wanted to know values for Required Exposure given some values of Metered Exposure missing in a table, namely for 3, 4, 6, 7, 8, and 9 seconds."
   ]
  },
  {
   "cell_type": "code",
   "execution_count": 1,
   "metadata": {
    "autoscroll": false,
    "collapsed": false,
    "ein.hycell": false,
    "ein.tags": "worksheet-0",
    "slideshow": {
     "slide_type": "-"
    }
   },
   "outputs": [
    {
     "name": "stdout",
     "output_type": "stream",
     "text": [
      "2, 2.5\r\n",
      "5, 7\r\n",
      "10, 15\r\n",
      "15, 24\r\n",
      "20, 33\r\n",
      "30, 50\r\n",
      "60,\t120\r\n",
      "120,\t270\r\n",
      "240,\t600\r\n",
      "600,\t1680\r\n",
      "1200,\t3900\r\n",
      "1800,\t6600"
     ]
    }
   ],
   "source": [
    "# first I retyped data to a CSV format\n",
    "!cat data.csv"
   ]
  },
  {
   "cell_type": "code",
   "execution_count": 3,
   "metadata": {
    "autoscroll": false,
    "collapsed": false,
    "ein.hycell": false,
    "ein.tags": "worksheet-0",
    "slideshow": {
     "slide_type": "-"
    }
   },
   "outputs": [
    {
     "data": {
      "text/html": [
       "<div>\n<style scoped>\n    .dataframe tbody tr th:only-of-type {\n        vertical-align: middle;\n    }\n\n    .dataframe tbody tr th {\n        vertical-align: top;\n    }\n\n    .dataframe thead th {\n        text-align: right;\n    }\n</style>\n<table border=\"1\" class=\"dataframe\">\n  <thead>\n    <tr style=\"text-align: right;\">\n      <th></th>\n      <th>t_m</th>\n      <th>T_e</th>\n    </tr>\n  </thead>\n  <tbody>\n    <tr>\n      <td>0</td>\n      <td>2</td>\n      <td>2.5</td>\n    </tr>\n    <tr>\n      <td>1</td>\n      <td>5</td>\n      <td>7.0</td>\n    </tr>\n    <tr>\n      <td>2</td>\n      <td>10</td>\n      <td>15.0</td>\n    </tr>\n    <tr>\n      <td>3</td>\n      <td>15</td>\n      <td>24.0</td>\n    </tr>\n    <tr>\n      <td>4</td>\n      <td>20</td>\n      <td>33.0</td>\n    </tr>\n    <tr>\n      <td>5</td>\n      <td>30</td>\n      <td>50.0</td>\n    </tr>\n    <tr>\n      <td>6</td>\n      <td>60</td>\n      <td>120.0</td>\n    </tr>\n    <tr>\n      <td>7</td>\n      <td>120</td>\n      <td>270.0</td>\n    </tr>\n    <tr>\n      <td>8</td>\n      <td>240</td>\n      <td>600.0</td>\n    </tr>\n    <tr>\n      <td>9</td>\n      <td>600</td>\n      <td>1680.0</td>\n    </tr>\n    <tr>\n      <td>10</td>\n      <td>1200</td>\n      <td>3900.0</td>\n    </tr>\n    <tr>\n      <td>11</td>\n      <td>1800</td>\n      <td>6600.0</td>\n    </tr>\n  </tbody>\n</table>\n</div>"
      ],
      "text/plain": [
       "     t_m     T_e\n0      2     2.5\n1      5     7.0\n2     10    15.0\n3     15    24.0\n4     20    33.0\n5     30    50.0\n6     60   120.0\n7    120   270.0\n8    240   600.0\n9    600  1680.0\n10  1200  3900.0\n11  1800  6600.0"
      ]
     },
     "execution_count": 3,
     "metadata": {},
     "output_type": "execute_result"
    }
   ],
   "source": [
    "# then I used standard Python way to process and model them\n",
    "import pandas as pd\n",
    "\n",
    "data = pd.read_csv(\"data.csv\", header=None)\n",
    "# t_m - time metered (metered exposure)\n",
    "# T_e - time of exposure (required exposure)\n",
    "data.columns = [\"t_m\", \"T_e\"]\n",
    "data"
   ]
  },
  {
   "cell_type": "markdown",
   "metadata": {
    "ein.tags": "worksheet-0",
    "slideshow": {
     "slide_type": "-"
    }
   },
   "source": [
    "The main thing of course was feature engineering. That was taken from [here](https://www.flickr.com/photos/janokelly/6804638225/)\n",
    "\n",
    "$$T_e=t_m\\left(a\\log^2t_m+b\\log t_m+c\\right)$$\n",
    "\n",
    "Although the formula is highly nonlinear, it's still can be rewritten as a simple linear regression:\n",
    "\n",
    "$$y=ax_1+bx_2+c$$\n",
    "\n",
    "where $y=\\frac{T_e}{t_m}$, $x_1=\\log t_m$, and $x_2=\\log^2t_m$."
   ]
  },
  {
   "cell_type": "code",
   "execution_count": 4,
   "metadata": {
    "autoscroll": false,
    "collapsed": false,
    "ein.hycell": false,
    "ein.tags": "worksheet-0",
    "slideshow": {
     "slide_type": "-"
    }
   },
   "outputs": [],
   "source": [
    "# here we just encode abovementioned transformations\n",
    "import numpy as np\n",
    "\n",
    "data[\"x_1\"] = np.log(data.t_m)\n",
    "data[\"x_2\"] = data[\"x_1\"] ** 2\n",
    "data[\"y\"] = data.T_e / data.t_m"
   ]
  },
  {
   "cell_type": "code",
   "execution_count": 5,
   "metadata": {
    "autoscroll": false,
    "collapsed": false,
    "ein.hycell": false,
    "ein.tags": "worksheet-0",
    "slideshow": {
     "slide_type": "-"
    }
   },
   "outputs": [
    {
     "name": "stdout",
     "output_type": "stream",
     "text": [
      "[0.         0.04051689]\n",
      "1.2723888002536607\n"
     ]
    }
   ],
   "source": [
    "# we use standard Lasso Regression to avoid overfitting\n",
    "# which is highly probable given that we have only eleven samples in our train set\n",
    "from sklearn.linear_model import LassoCV\n",
    "\n",
    "# we use leave-one-out cross-validation strategy\n",
    "# to reduce overfitting risk even more\n",
    "lr = LassoCV(cv=len(data))\n",
    "lr.fit(data[[\"x_1\", \"x_2\"]], data[\"y\"])\n",
    "# the first coefficient is zero\n",
    "# that's because Lasso has L_1 regularization included by default\n",
    "# so Lasso can make the formula more simple and comprehendable\n",
    "print(lr.coef_)\n",
    "print(lr.intercept_)"
   ]
  },
  {
   "cell_type": "markdown",
   "metadata": {
    "ein.tags": "worksheet-0",
    "slideshow": {
     "slide_type": "-"
    }
   },
   "source": [
    "One can make the formula prettier by rounding it's coefficients (not much will be lost in precision):\n",
    "\n",
    "$$T_e=t_m\\left(0.04\\log^2t_m+1.27\\right)$$"
   ]
  },
  {
   "cell_type": "code",
   "execution_count": 6,
   "metadata": {
    "autoscroll": false,
    "collapsed": false,
    "ein.hycell": false,
    "ein.tags": "worksheet-0",
    "slideshow": {
     "slide_type": "-"
    }
   },
   "outputs": [],
   "source": [
    "def get_t_e(lr: LassoCV, t_m: float) -> float:\n",
    "    \"\"\" get T_e from t_m\n",
    "    \n",
    "    param lr: trained Lasso Regression\n",
    "    param t_m: value of time metered\n",
    "    return: required time of exposure\n",
    "    \"\"\"\n",
    "    l = np.log(t_m)\n",
    "    return t_m * ((\n",
    "        np.round(lr.coef_[0], 2) +\n",
    "        np.round(lr.coef_[1], 2) * l\n",
    "    ) * l + np.round(lr.intercept_, 2))"
   ]
  },
  {
   "cell_type": "code",
   "execution_count": 7,
   "metadata": {
    "autoscroll": false,
    "collapsed": false,
    "ein.hycell": false,
    "ein.tags": "worksheet-0",
    "slideshow": {
     "slide_type": "-"
    }
   },
   "outputs": [
    {
     "data": {
      "text/plain": [
       "array([ 4.,  5.,  8., 10., 12., 13.])"
      ]
     },
     "execution_count": 7,
     "metadata": {},
     "output_type": "execute_result"
    }
   ],
   "source": [
    "# now we can find required exposures for some missing values\n",
    "# they were tested by my sister and found coherent with the actual film used\n",
    "np.round([get_t_e(lr, x) for x in [3, 4, 6, 7, 8, 9]])"
   ]
  },
  {
   "cell_type": "code",
   "execution_count": 8,
   "metadata": {
    "autoscroll": false,
    "collapsed": false,
    "ein.hycell": false,
    "ein.tags": "worksheet-0",
    "scrolled": true,
    "slideshow": {
     "slide_type": "-"
    }
   },
   "outputs": [
    {
     "data": {
      "text/plain": [
       "0    -0.030420\n1     0.019211\n2     0.012094\n3     0.023449\n4     0.012906\n5    -0.038124\n6     0.030638\n7     0.028899\n8     0.011533\n9    -0.036751\n10   -0.009378\n11    0.042459\ndtype: float64"
      ]
     },
     "execution_count": 8,
     "metadata": {},
     "output_type": "execute_result"
    }
   ],
   "source": [
    "# here we can see that percentage error is quite small for different points,\n",
    "# small and large alike\n",
    "data.T_e / get_t_e(lr, data.t_m) - 1"
   ]
  },
  {
   "cell_type": "markdown",
   "metadata": {
    "ein.tags": "worksheet-0",
    "slideshow": {
     "slide_type": "-"
    }
   },
   "source": [
    "We can also look at some extreme points taken from [other tables](http://www.seeinglight.com/reciprocity.shtml#dontmax)\n",
    "to see how this formula can extrapolate values."
   ]
  },
  {
   "cell_type": "code",
   "execution_count": 9,
   "metadata": {
    "autoscroll": false,
    "collapsed": false,
    "ein.hycell": false,
    "ein.tags": "worksheet-0",
    "slideshow": {
     "slide_type": "-"
    }
   },
   "outputs": [
    {
     "data": {
      "text/plain": [
       "3.9521851830716295"
      ]
     },
     "execution_count": 9,
     "metadata": {},
     "output_type": "execute_result"
    }
   ],
   "source": [
    "get_t_e(lr, 3600) / 3600"
   ]
  },
  {
   "cell_type": "markdown",
   "metadata": {
    "ein.tags": "worksheet-0",
    "slideshow": {
     "slide_type": "-"
    }
   },
   "source": [
    "For one hour metered we receive about 4 hours required, and the table gives the value of 3.5 hours:(\n",
    "\n",
    "Well, at least the interpolated values have worked:)"
   ]
  }
 ],
 "metadata": {
  "kernelspec": {
   "argv": [
    "python",
    "-m",
    "ipykernel_launcher",
    "-f",
    "{connection_file}"
   ],
   "display_name": "Python 3",
   "env": null,
   "interrupt_mode": "signal",
   "language": "python",
   "metadata": null,
   "name": "python3"
  },
  "language_info": {
   "codemirror_mode": {
    "name": "ipython",
    "version": 3
   },
   "file_extension": ".py",
   "mimetype": "text/x-python",
   "name": "python",
   "nbconvert_exporter": "python",
   "pygments_lexer": "ipython3",
   "version": "3.7.1"
  },
  "name": "T-Max 100.ipynb"
 },
 "nbformat": 4,
 "nbformat_minor": 2
}
